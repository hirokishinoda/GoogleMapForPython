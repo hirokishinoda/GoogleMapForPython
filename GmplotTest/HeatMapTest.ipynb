{
 "cells": [
  {
   "cell_type": "markdown",
   "metadata": {},
   "source": [
    "# gmplotでヒートマップ"
   ]
  },
  {
   "cell_type": "markdown",
   "metadata": {},
   "source": [
    "## ライブラリをインポート"
   ]
  },
  {
   "cell_type": "code",
   "execution_count": 1,
   "metadata": {},
   "outputs": [],
   "source": [
    "from gmplot import gmplot\n",
    "import sys\n",
    "\n",
    "import numpy as np\n",
    "import pandas as pd\n",
    "\n",
    "from pygeocoder import Geocoder\n",
    "import googlemaps\n",
    "\n",
    "sys.path.append(\"/home/hiroki/Program/Python/GoogleMap/script\")\n",
    "import setting"
   ]
  },
  {
   "cell_type": "markdown",
   "metadata": {},
   "source": [
    "## APIkeyを読み込む"
   ]
  },
  {
   "cell_type": "code",
   "execution_count": 2,
   "metadata": {},
   "outputs": [],
   "source": [
    "api_key = setting.API_KEY # API_KEY"
   ]
  },
  {
   "cell_type": "markdown",
   "metadata": {},
   "source": [
    "## データを読み込む"
   ]
  },
  {
   "cell_type": "code",
   "execution_count": 3,
   "metadata": {},
   "outputs": [],
   "source": [
    "df = pd.read_csv(\"./data/001_00.csv\",  encoding=\"shift-jis\")"
   ]
  },
  {
   "cell_type": "code",
   "execution_count": 4,
   "metadata": {},
   "outputs": [
    {
     "data": {
      "text/html": [
       "<div>\n",
       "<style scoped>\n",
       "    .dataframe tbody tr th:only-of-type {\n",
       "        vertical-align: middle;\n",
       "    }\n",
       "\n",
       "    .dataframe tbody tr th {\n",
       "        vertical-align: top;\n",
       "    }\n",
       "\n",
       "    .dataframe thead th {\n",
       "        text-align: right;\n",
       "    }\n",
       "</style>\n",
       "<table border=\"1\" class=\"dataframe\">\n",
       "  <thead>\n",
       "    <tr style=\"text-align: right;\">\n",
       "      <th></th>\n",
       "      <th>1</th>\n",
       "      <th>平成27年国勢調査人口速報集計</th>\n",
       "      <th>Unnamed: 2</th>\n",
       "      <th>Unnamed: 3</th>\n",
       "      <th>Unnamed: 4</th>\n",
       "      <th>Unnamed: 5</th>\n",
       "      <th>Unnamed: 6</th>\n",
       "      <th>Unnamed: 7</th>\n",
       "      <th>Unnamed: 8</th>\n",
       "      <th>Unnamed: 9</th>\n",
       "      <th>Unnamed: 10</th>\n",
       "      <th>Unnamed: 11</th>\n",
       "      <th>Unnamed: 12</th>\n",
       "      <th>Unnamed: 13</th>\n",
       "      <th>Unnamed: 14</th>\n",
       "    </tr>\n",
       "  </thead>\n",
       "  <tbody>\n",
       "    <tr>\n",
       "      <th>15</th>\n",
       "      <td>17</td>\n",
       "      <td>NaN</td>\n",
       "      <td>01100</td>\n",
       "      <td>1</td>\n",
       "      <td>札幌市</td>\n",
       "      <td>1953784</td>\n",
       "      <td>1913545</td>\n",
       "      <td>40239</td>\n",
       "      <td>2.1028509912</td>\n",
       "      <td>1121.26</td>\n",
       "      <td>1742.5</td>\n",
       "      <td>919198</td>\n",
       "      <td>885848</td>\n",
       "      <td>33350</td>\n",
       "      <td>3.7647542242</td>\n",
       "    </tr>\n",
       "    <tr>\n",
       "      <th>16</th>\n",
       "      <td>18</td>\n",
       "      <td>NaN</td>\n",
       "      <td>01101</td>\n",
       "      <td>0</td>\n",
       "      <td>札幌市 中央区</td>\n",
       "      <td>237784</td>\n",
       "      <td>220189</td>\n",
       "      <td>17595</td>\n",
       "      <td>7.9908623955</td>\n",
       "      <td>46.42</td>\n",
       "      <td>5122.4</td>\n",
       "      <td>131598</td>\n",
       "      <td>120741</td>\n",
       "      <td>10857</td>\n",
       "      <td>8.9919745571</td>\n",
       "    </tr>\n",
       "    <tr>\n",
       "      <th>17</th>\n",
       "      <td>19</td>\n",
       "      <td>NaN</td>\n",
       "      <td>01102</td>\n",
       "      <td>0</td>\n",
       "      <td>札幌市 北区</td>\n",
       "      <td>285432</td>\n",
       "      <td>278781</td>\n",
       "      <td>6651</td>\n",
       "      <td>2.3857436482</td>\n",
       "      <td>63.57</td>\n",
       "      <td>4490.0</td>\n",
       "      <td>133522</td>\n",
       "      <td>127440</td>\n",
       "      <td>6082</td>\n",
       "      <td>4.7724419335</td>\n",
       "    </tr>\n",
       "    <tr>\n",
       "      <th>18</th>\n",
       "      <td>20</td>\n",
       "      <td>NaN</td>\n",
       "      <td>01103</td>\n",
       "      <td>0</td>\n",
       "      <td>札幌市 東区</td>\n",
       "      <td>262075</td>\n",
       "      <td>255873</td>\n",
       "      <td>6202</td>\n",
       "      <td>2.4238587112</td>\n",
       "      <td>56.97</td>\n",
       "      <td>4600.2</td>\n",
       "      <td>124424</td>\n",
       "      <td>118939</td>\n",
       "      <td>5485</td>\n",
       "      <td>4.6116076308</td>\n",
       "    </tr>\n",
       "    <tr>\n",
       "      <th>19</th>\n",
       "      <td>21</td>\n",
       "      <td>NaN</td>\n",
       "      <td>01104</td>\n",
       "      <td>0</td>\n",
       "      <td>札幌市 白石区</td>\n",
       "      <td>209770</td>\n",
       "      <td>204259</td>\n",
       "      <td>5511</td>\n",
       "      <td>2.6980451290</td>\n",
       "      <td>34.47</td>\n",
       "      <td>6085.6</td>\n",
       "      <td>103548</td>\n",
       "      <td>100444</td>\n",
       "      <td>3104</td>\n",
       "      <td>3.0902791605</td>\n",
       "    </tr>\n",
       "    <tr>\n",
       "      <th>...</th>\n",
       "      <td>...</td>\n",
       "      <td>...</td>\n",
       "      <td>...</td>\n",
       "      <td>...</td>\n",
       "      <td>...</td>\n",
       "      <td>...</td>\n",
       "      <td>...</td>\n",
       "      <td>...</td>\n",
       "      <td>...</td>\n",
       "      <td>...</td>\n",
       "      <td>...</td>\n",
       "      <td>...</td>\n",
       "      <td>...</td>\n",
       "      <td>...</td>\n",
       "      <td>...</td>\n",
       "    </tr>\n",
       "    <tr>\n",
       "      <th>2391</th>\n",
       "      <td>2393</td>\n",
       "      <td>NaN</td>\n",
       "      <td>47370</td>\n",
       "      <td>c</td>\n",
       "      <td>宮古郡</td>\n",
       "      <td>1196</td>\n",
       "      <td>1231</td>\n",
       "      <td>-35</td>\n",
       "      <td>-2.8432168968</td>\n",
       "      <td>21.99</td>\n",
       "      <td>54.4</td>\n",
       "      <td>468</td>\n",
       "      <td>499</td>\n",
       "      <td>-31</td>\n",
       "      <td>-6.2124248497</td>\n",
       "    </tr>\n",
       "    <tr>\n",
       "      <th>2392</th>\n",
       "      <td>2394</td>\n",
       "      <td>NaN</td>\n",
       "      <td>47375</td>\n",
       "      <td>3</td>\n",
       "      <td>多良間村</td>\n",
       "      <td>1196</td>\n",
       "      <td>1231</td>\n",
       "      <td>-35</td>\n",
       "      <td>-2.8432168968</td>\n",
       "      <td>21.99</td>\n",
       "      <td>54.4</td>\n",
       "      <td>468</td>\n",
       "      <td>499</td>\n",
       "      <td>-31</td>\n",
       "      <td>-6.2124248497</td>\n",
       "    </tr>\n",
       "    <tr>\n",
       "      <th>2393</th>\n",
       "      <td>2395</td>\n",
       "      <td>NaN</td>\n",
       "      <td>47380</td>\n",
       "      <td>c</td>\n",
       "      <td>八重山郡</td>\n",
       "      <td>5838</td>\n",
       "      <td>5516</td>\n",
       "      <td>322</td>\n",
       "      <td>5.8375634518</td>\n",
       "      <td>363.35</td>\n",
       "      <td>16.1</td>\n",
       "      <td>3196</td>\n",
       "      <td>2713</td>\n",
       "      <td>483</td>\n",
       "      <td>17.8031699226</td>\n",
       "    </tr>\n",
       "    <tr>\n",
       "      <th>2394</th>\n",
       "      <td>2396</td>\n",
       "      <td>NaN</td>\n",
       "      <td>47381</td>\n",
       "      <td>3</td>\n",
       "      <td>竹富町</td>\n",
       "      <td>3995</td>\n",
       "      <td>3859</td>\n",
       "      <td>136</td>\n",
       "      <td>3.5242290749</td>\n",
       "      <td>334.39</td>\n",
       "      <td>11.9</td>\n",
       "      <td>2116</td>\n",
       "      <td>2000</td>\n",
       "      <td>116</td>\n",
       "      <td>5.8000000000</td>\n",
       "    </tr>\n",
       "    <tr>\n",
       "      <th>2395</th>\n",
       "      <td>2397</td>\n",
       "      <td>NaN</td>\n",
       "      <td>47382</td>\n",
       "      <td>3</td>\n",
       "      <td>与那国町</td>\n",
       "      <td>1843</td>\n",
       "      <td>1657</td>\n",
       "      <td>186</td>\n",
       "      <td>11.2251056126</td>\n",
       "      <td>28.96</td>\n",
       "      <td>63.6</td>\n",
       "      <td>1080</td>\n",
       "      <td>713</td>\n",
       "      <td>367</td>\n",
       "      <td>51.4726507714</td>\n",
       "    </tr>\n",
       "  </tbody>\n",
       "</table>\n",
       "<p>2381 rows × 15 columns</p>\n",
       "</div>"
      ],
      "text/plain": [
       "         1 平成27年国勢調査人口速報集計 Unnamed: 2 Unnamed: 3 Unnamed: 4 Unnamed: 5  \\\n",
       "15      17             NaN      01100          1        札幌市    1953784   \n",
       "16      18             NaN      01101          0    札幌市 中央区     237784   \n",
       "17      19             NaN      01102          0     札幌市 北区     285432   \n",
       "18      20             NaN      01103          0     札幌市 東区     262075   \n",
       "19      21             NaN      01104          0    札幌市 白石区     209770   \n",
       "...    ...             ...        ...        ...        ...        ...   \n",
       "2391  2393             NaN      47370          c        宮古郡       1196   \n",
       "2392  2394             NaN      47375          3       多良間村       1196   \n",
       "2393  2395             NaN      47380          c       八重山郡       5838   \n",
       "2394  2396             NaN      47381          3        竹富町       3995   \n",
       "2395  2397             NaN      47382          3       与那国町       1843   \n",
       "\n",
       "     Unnamed: 6 Unnamed: 7     Unnamed: 8 Unnamed: 9 Unnamed: 10 Unnamed: 11  \\\n",
       "15      1913545      40239   2.1028509912    1121.26      1742.5      919198   \n",
       "16       220189      17595   7.9908623955      46.42      5122.4      131598   \n",
       "17       278781       6651   2.3857436482      63.57      4490.0      133522   \n",
       "18       255873       6202   2.4238587112      56.97      4600.2      124424   \n",
       "19       204259       5511   2.6980451290      34.47      6085.6      103548   \n",
       "...         ...        ...            ...        ...         ...         ...   \n",
       "2391       1231        -35  -2.8432168968      21.99        54.4         468   \n",
       "2392       1231        -35  -2.8432168968      21.99        54.4         468   \n",
       "2393       5516        322   5.8375634518     363.35        16.1        3196   \n",
       "2394       3859        136   3.5242290749     334.39        11.9        2116   \n",
       "2395       1657        186  11.2251056126      28.96        63.6        1080   \n",
       "\n",
       "     Unnamed: 12 Unnamed: 13    Unnamed: 14  \n",
       "15        885848       33350   3.7647542242  \n",
       "16        120741       10857   8.9919745571  \n",
       "17        127440        6082   4.7724419335  \n",
       "18        118939        5485   4.6116076308  \n",
       "19        100444        3104   3.0902791605  \n",
       "...          ...         ...            ...  \n",
       "2391         499         -31  -6.2124248497  \n",
       "2392         499         -31  -6.2124248497  \n",
       "2393        2713         483  17.8031699226  \n",
       "2394        2000         116   5.8000000000  \n",
       "2395         713         367  51.4726507714  \n",
       "\n",
       "[2381 rows x 15 columns]"
      ]
     },
     "execution_count": 4,
     "metadata": {},
     "output_type": "execute_result"
    }
   ],
   "source": [
    "df[15:]"
   ]
  },
  {
   "cell_type": "markdown",
   "metadata": {},
   "source": [
    "## 都市と人口のデータだけ抜き出し"
   ]
  },
  {
   "cell_type": "code",
   "execution_count": 5,
   "metadata": {},
   "outputs": [],
   "source": [
    "# 都市と人口の抜き出し\n",
    "pop_df = df.loc[15:,['Unnamed: 4', 'Unnamed: 5']].reset_index()"
   ]
  },
  {
   "cell_type": "code",
   "execution_count": 6,
   "metadata": {},
   "outputs": [
    {
     "data": {
      "text/html": [
       "<div>\n",
       "<style scoped>\n",
       "    .dataframe tbody tr th:only-of-type {\n",
       "        vertical-align: middle;\n",
       "    }\n",
       "\n",
       "    .dataframe tbody tr th {\n",
       "        vertical-align: top;\n",
       "    }\n",
       "\n",
       "    .dataframe thead th {\n",
       "        text-align: right;\n",
       "    }\n",
       "</style>\n",
       "<table border=\"1\" class=\"dataframe\">\n",
       "  <thead>\n",
       "    <tr style=\"text-align: right;\">\n",
       "      <th></th>\n",
       "      <th>index</th>\n",
       "      <th>Unnamed: 4</th>\n",
       "      <th>Unnamed: 5</th>\n",
       "    </tr>\n",
       "  </thead>\n",
       "  <tbody>\n",
       "    <tr>\n",
       "      <th>0</th>\n",
       "      <td>15</td>\n",
       "      <td>札幌市</td>\n",
       "      <td>1953784</td>\n",
       "    </tr>\n",
       "    <tr>\n",
       "      <th>1</th>\n",
       "      <td>16</td>\n",
       "      <td>札幌市 中央区</td>\n",
       "      <td>237784</td>\n",
       "    </tr>\n",
       "    <tr>\n",
       "      <th>2</th>\n",
       "      <td>17</td>\n",
       "      <td>札幌市 北区</td>\n",
       "      <td>285432</td>\n",
       "    </tr>\n",
       "    <tr>\n",
       "      <th>3</th>\n",
       "      <td>18</td>\n",
       "      <td>札幌市 東区</td>\n",
       "      <td>262075</td>\n",
       "    </tr>\n",
       "    <tr>\n",
       "      <th>4</th>\n",
       "      <td>19</td>\n",
       "      <td>札幌市 白石区</td>\n",
       "      <td>209770</td>\n",
       "    </tr>\n",
       "    <tr>\n",
       "      <th>...</th>\n",
       "      <td>...</td>\n",
       "      <td>...</td>\n",
       "      <td>...</td>\n",
       "    </tr>\n",
       "    <tr>\n",
       "      <th>2376</th>\n",
       "      <td>2391</td>\n",
       "      <td>宮古郡</td>\n",
       "      <td>1196</td>\n",
       "    </tr>\n",
       "    <tr>\n",
       "      <th>2377</th>\n",
       "      <td>2392</td>\n",
       "      <td>多良間村</td>\n",
       "      <td>1196</td>\n",
       "    </tr>\n",
       "    <tr>\n",
       "      <th>2378</th>\n",
       "      <td>2393</td>\n",
       "      <td>八重山郡</td>\n",
       "      <td>5838</td>\n",
       "    </tr>\n",
       "    <tr>\n",
       "      <th>2379</th>\n",
       "      <td>2394</td>\n",
       "      <td>竹富町</td>\n",
       "      <td>3995</td>\n",
       "    </tr>\n",
       "    <tr>\n",
       "      <th>2380</th>\n",
       "      <td>2395</td>\n",
       "      <td>与那国町</td>\n",
       "      <td>1843</td>\n",
       "    </tr>\n",
       "  </tbody>\n",
       "</table>\n",
       "<p>2381 rows × 3 columns</p>\n",
       "</div>"
      ],
      "text/plain": [
       "      index Unnamed: 4 Unnamed: 5\n",
       "0        15        札幌市    1953784\n",
       "1        16    札幌市 中央区     237784\n",
       "2        17     札幌市 北区     285432\n",
       "3        18     札幌市 東区     262075\n",
       "4        19    札幌市 白石区     209770\n",
       "...     ...        ...        ...\n",
       "2376   2391        宮古郡       1196\n",
       "2377   2392       多良間村       1196\n",
       "2378   2393       八重山郡       5838\n",
       "2379   2394        竹富町       3995\n",
       "2380   2395       与那国町       1843\n",
       "\n",
       "[2381 rows x 3 columns]"
      ]
     },
     "execution_count": 6,
     "metadata": {},
     "output_type": "execute_result"
    }
   ],
   "source": [
    "pop_df"
   ]
  },
  {
   "cell_type": "markdown",
   "metadata": {},
   "source": [
    "## 政令指定都市のデータだけを抜き出し"
   ]
  },
  {
   "cell_type": "code",
   "execution_count": 7,
   "metadata": {},
   "outputs": [],
   "source": [
    "gv_city = ['札幌市', '仙台市', 'さいたま市', '千葉市', '横浜市', '川崎市', '相模原市', '新潟市', '静岡市', '浜松市', '名古屋市', '京都市', '大阪市', '堺市', '神戸市', '岡山市', '広島市', '北九州市', '福岡市', '熊本市']"
   ]
  },
  {
   "cell_type": "code",
   "execution_count": 8,
   "metadata": {},
   "outputs": [],
   "source": [
    "city_df = pop_df[pop_df[\"Unnamed: 4\"].isin(gv_city)].reset_index()"
   ]
  },
  {
   "cell_type": "code",
   "execution_count": 9,
   "metadata": {},
   "outputs": [
    {
     "data": {
      "text/html": [
       "<div>\n",
       "<style scoped>\n",
       "    .dataframe tbody tr th:only-of-type {\n",
       "        vertical-align: middle;\n",
       "    }\n",
       "\n",
       "    .dataframe tbody tr th {\n",
       "        vertical-align: top;\n",
       "    }\n",
       "\n",
       "    .dataframe thead th {\n",
       "        text-align: right;\n",
       "    }\n",
       "</style>\n",
       "<table border=\"1\" class=\"dataframe\">\n",
       "  <thead>\n",
       "    <tr style=\"text-align: right;\">\n",
       "      <th></th>\n",
       "      <th>level_0</th>\n",
       "      <th>index</th>\n",
       "      <th>Unnamed: 4</th>\n",
       "      <th>Unnamed: 5</th>\n",
       "    </tr>\n",
       "  </thead>\n",
       "  <tbody>\n",
       "    <tr>\n",
       "      <th>0</th>\n",
       "      <td>0</td>\n",
       "      <td>15</td>\n",
       "      <td>札幌市</td>\n",
       "      <td>1953784</td>\n",
       "    </tr>\n",
       "    <tr>\n",
       "      <th>1</th>\n",
       "      <td>303</td>\n",
       "      <td>318</td>\n",
       "      <td>仙台市</td>\n",
       "      <td>1082185</td>\n",
       "    </tr>\n",
       "    <tr>\n",
       "      <th>2</th>\n",
       "      <td>643</td>\n",
       "      <td>658</td>\n",
       "      <td>さいたま市</td>\n",
       "      <td>1264253</td>\n",
       "    </tr>\n",
       "    <tr>\n",
       "      <th>3</th>\n",
       "      <td>727</td>\n",
       "      <td>742</td>\n",
       "      <td>千葉市</td>\n",
       "      <td>972639</td>\n",
       "    </tr>\n",
       "    <tr>\n",
       "      <th>4</th>\n",
       "      <td>867</td>\n",
       "      <td>882</td>\n",
       "      <td>横浜市</td>\n",
       "      <td>3726167</td>\n",
       "    </tr>\n",
       "    <tr>\n",
       "      <th>5</th>\n",
       "      <td>886</td>\n",
       "      <td>901</td>\n",
       "      <td>川崎市</td>\n",
       "      <td>1475300</td>\n",
       "    </tr>\n",
       "    <tr>\n",
       "      <th>6</th>\n",
       "      <td>894</td>\n",
       "      <td>909</td>\n",
       "      <td>相模原市</td>\n",
       "      <td>720914</td>\n",
       "    </tr>\n",
       "    <tr>\n",
       "      <th>7</th>\n",
       "      <td>937</td>\n",
       "      <td>952</td>\n",
       "      <td>新潟市</td>\n",
       "      <td>810514</td>\n",
       "    </tr>\n",
       "    <tr>\n",
       "      <th>8</th>\n",
       "      <td>1244</td>\n",
       "      <td>1259</td>\n",
       "      <td>静岡市</td>\n",
       "      <td>705238</td>\n",
       "    </tr>\n",
       "    <tr>\n",
       "      <th>9</th>\n",
       "      <td>1248</td>\n",
       "      <td>1263</td>\n",
       "      <td>浜松市</td>\n",
       "      <td>798252</td>\n",
       "    </tr>\n",
       "    <tr>\n",
       "      <th>10</th>\n",
       "      <td>1297</td>\n",
       "      <td>1312</td>\n",
       "      <td>名古屋市</td>\n",
       "      <td>2296014</td>\n",
       "    </tr>\n",
       "    <tr>\n",
       "      <th>11</th>\n",
       "      <td>1441</td>\n",
       "      <td>1456</td>\n",
       "      <td>京都市</td>\n",
       "      <td>1474570</td>\n",
       "    </tr>\n",
       "    <tr>\n",
       "      <th>12</th>\n",
       "      <td>1487</td>\n",
       "      <td>1502</td>\n",
       "      <td>大阪市</td>\n",
       "      <td>2691742</td>\n",
       "    </tr>\n",
       "    <tr>\n",
       "      <th>13</th>\n",
       "      <td>1512</td>\n",
       "      <td>1527</td>\n",
       "      <td>堺市</td>\n",
       "      <td>839891</td>\n",
       "    </tr>\n",
       "    <tr>\n",
       "      <th>14</th>\n",
       "      <td>1569</td>\n",
       "      <td>1584</td>\n",
       "      <td>神戸市</td>\n",
       "      <td>1537860</td>\n",
       "    </tr>\n",
       "    <tr>\n",
       "      <th>15</th>\n",
       "      <td>1772</td>\n",
       "      <td>1787</td>\n",
       "      <td>岡山市</td>\n",
       "      <td>719584</td>\n",
       "    </tr>\n",
       "    <tr>\n",
       "      <th>16</th>\n",
       "      <td>1816</td>\n",
       "      <td>1831</td>\n",
       "      <td>広島市</td>\n",
       "      <td>1194507</td>\n",
       "    </tr>\n",
       "    <tr>\n",
       "      <th>17</th>\n",
       "      <td>2014</td>\n",
       "      <td>2029</td>\n",
       "      <td>北九州市</td>\n",
       "      <td>961815</td>\n",
       "    </tr>\n",
       "    <tr>\n",
       "      <th>18</th>\n",
       "      <td>2022</td>\n",
       "      <td>2037</td>\n",
       "      <td>福岡市</td>\n",
       "      <td>1538510</td>\n",
       "    </tr>\n",
       "    <tr>\n",
       "      <th>19</th>\n",
       "      <td>2160</td>\n",
       "      <td>2175</td>\n",
       "      <td>熊本市</td>\n",
       "      <td>741115</td>\n",
       "    </tr>\n",
       "  </tbody>\n",
       "</table>\n",
       "</div>"
      ],
      "text/plain": [
       "    level_0  index Unnamed: 4 Unnamed: 5\n",
       "0         0     15        札幌市    1953784\n",
       "1       303    318        仙台市    1082185\n",
       "2       643    658      さいたま市    1264253\n",
       "3       727    742        千葉市     972639\n",
       "4       867    882        横浜市    3726167\n",
       "5       886    901        川崎市    1475300\n",
       "6       894    909       相模原市     720914\n",
       "7       937    952        新潟市     810514\n",
       "8      1244   1259        静岡市     705238\n",
       "9      1248   1263        浜松市     798252\n",
       "10     1297   1312       名古屋市    2296014\n",
       "11     1441   1456        京都市    1474570\n",
       "12     1487   1502        大阪市    2691742\n",
       "13     1512   1527         堺市     839891\n",
       "14     1569   1584        神戸市    1537860\n",
       "15     1772   1787        岡山市     719584\n",
       "16     1816   1831        広島市    1194507\n",
       "17     2014   2029       北九州市     961815\n",
       "18     2022   2037        福岡市    1538510\n",
       "19     2160   2175        熊本市     741115"
      ]
     },
     "execution_count": 9,
     "metadata": {},
     "output_type": "execute_result"
    }
   ],
   "source": [
    "city_df"
   ]
  },
  {
   "cell_type": "markdown",
   "metadata": {},
   "source": [
    "## 重みの抜き出し"
   ]
  },
  {
   "cell_type": "code",
   "execution_count": 10,
   "metadata": {},
   "outputs": [],
   "source": [
    "weight = (city_df[\"Unnamed: 5\"].values).astype('int64')"
   ]
  },
  {
   "cell_type": "code",
   "execution_count": 11,
   "metadata": {},
   "outputs": [
    {
     "data": {
      "text/plain": [
       "numpy.ndarray"
      ]
     },
     "execution_count": 11,
     "metadata": {},
     "output_type": "execute_result"
    }
   ],
   "source": [
    "type(weight)"
   ]
  },
  {
   "cell_type": "code",
   "execution_count": 12,
   "metadata": {},
   "outputs": [
    {
     "data": {
      "text/plain": [
       "array([1953784, 1082185, 1264253,  972639, 3726167, 1475300,  720914,\n",
       "        810514,  705238,  798252, 2296014, 1474570, 2691742,  839891,\n",
       "       1537860,  719584, 1194507,  961815, 1538510,  741115])"
      ]
     },
     "execution_count": 12,
     "metadata": {},
     "output_type": "execute_result"
    }
   ],
   "source": [
    "weight"
   ]
  },
  {
   "cell_type": "markdown",
   "metadata": {},
   "source": [
    "## 重みの正規化"
   ]
  },
  {
   "cell_type": "code",
   "execution_count": 13,
   "metadata": {},
   "outputs": [],
   "source": [
    "weight_re = (weight - weight.min())"
   ]
  },
  {
   "cell_type": "code",
   "execution_count": 14,
   "metadata": {},
   "outputs": [],
   "source": [
    "weight_re = weight_re / weight_re.max()"
   ]
  },
  {
   "cell_type": "code",
   "execution_count": 15,
   "metadata": {},
   "outputs": [
    {
     "data": {
      "text/plain": [
       "array([0.41329869, 0.1247785 , 0.18504738, 0.08851615, 1.        ,\n",
       "       0.254909  , 0.00518913, 0.03484888, 0.        , 0.03078987,\n",
       "       0.52658503, 0.25466736, 0.6575805 , 0.04457337, 0.27561786,\n",
       "       0.00474887, 0.16195978, 0.08493314, 0.27583303, 0.01187615])"
      ]
     },
     "execution_count": 15,
     "metadata": {},
     "output_type": "execute_result"
    }
   ],
   "source": [
    "weight_re"
   ]
  },
  {
   "cell_type": "code",
   "execution_count": 16,
   "metadata": {},
   "outputs": [
    {
     "data": {
      "text/plain": [
       "array([ 4132,  1247,  1850,   885, 10000,  2549,    51,   348,     0,\n",
       "         307,  5265,  2546,  6575,   445,  2756,    47,  1619,   849,\n",
       "        2758,   118])"
      ]
     },
     "execution_count": 16,
     "metadata": {},
     "output_type": "execute_result"
    }
   ],
   "source": [
    "weight_re = (weight_re * 10000).astype('int64')\n",
    "weight_re"
   ]
  },
  {
   "cell_type": "markdown",
   "metadata": {},
   "source": [
    "## 各市の位置情報(緯度・経度)取得"
   ]
  },
  {
   "cell_type": "code",
   "execution_count": 17,
   "metadata": {},
   "outputs": [],
   "source": [
    "gmaps = googlemaps.Client(key=api_key)"
   ]
  },
  {
   "cell_type": "code",
   "execution_count": 18,
   "metadata": {},
   "outputs": [
    {
     "data": {
      "text/plain": [
       "array(['札幌市', '仙台市', 'さいたま市', '千葉市', '横浜市', '川崎市', '相模原市', '新潟市', '静岡市',\n",
       "       '浜松市', '名古屋市', '京都市', '大阪市', '堺市', '神戸市', '岡山市', '広島市', '北九州市',\n",
       "       '福岡市', '熊本市'], dtype=object)"
      ]
     },
     "execution_count": 18,
     "metadata": {},
     "output_type": "execute_result"
    }
   ],
   "source": [
    "locations = city_df[\"Unnamed: 4\"].values\n",
    "locations"
   ]
  },
  {
   "cell_type": "code",
   "execution_count": 19,
   "metadata": {},
   "outputs": [
    {
     "name": "stdout",
     "output_type": "stream",
     "text": [
      "札幌市\n",
      "43.0617713 141.3544507\n",
      "仙台市\n",
      "38.268195 140.869418\n",
      "さいたま市\n",
      "35.8616486 139.6454782\n",
      "千葉市\n",
      "35.6074041 140.1065366\n",
      "横浜市\n",
      "35.4436739 139.6379639\n",
      "川崎市\n",
      "35.5308325 139.7029125\n",
      "相模原市\n",
      "35.5712568 139.373427\n",
      "新潟市\n",
      "37.9161244 139.0363708\n",
      "静岡市\n",
      "34.9755668 138.3826773\n",
      "浜松市\n",
      "34.7102752 137.7274159\n",
      "名古屋市\n",
      "35.18145060000001 136.9065571\n",
      "京都市\n",
      "35.011564 135.7681489\n",
      "大阪市\n",
      "34.6937249 135.5022535\n",
      "堺市\n",
      "34.5733261 135.4831176\n",
      "神戸市\n",
      "34.6900806 135.1956311\n",
      "岡山市\n",
      "34.6555312 133.919795\n",
      "広島市\n",
      "34.3852894 132.4553055\n",
      "北九州市\n",
      "33.8834976 130.8751773\n",
      "福岡市\n",
      "33.5901838 130.4016888\n",
      "熊本市\n",
      "32.8032164 130.7079369\n"
     ]
    }
   ],
   "source": [
    "results = []\n",
    "for address in locations:\n",
    "    print(address)\n",
    "    result = gmaps.geocode(address)\n",
    "    lat = result[0][\"geometry\"][\"location\"][\"lat\"]\n",
    "    lon = result[0][\"geometry\"][\"location\"][\"lng\"]\n",
    "    print(lat, lon)\n",
    "    results.append([lat,lon])\n",
    "results = np.array(results)"
   ]
  },
  {
   "cell_type": "code",
   "execution_count": 20,
   "metadata": {},
   "outputs": [
    {
     "data": {
      "text/plain": [
       "array([43.0617713, 38.268195 , 35.8616486, 35.6074041, 35.4436739,\n",
       "       35.5308325, 35.5712568, 37.9161244, 34.9755668, 34.7102752,\n",
       "       35.1814506, 35.011564 , 34.6937249, 34.5733261, 34.6900806,\n",
       "       34.6555312, 34.3852894, 33.8834976, 33.5901838, 32.8032164])"
      ]
     },
     "execution_count": 20,
     "metadata": {},
     "output_type": "execute_result"
    }
   ],
   "source": [
    "results[:,0]"
   ]
  },
  {
   "cell_type": "markdown",
   "metadata": {},
   "source": [
    "## マップの中心地を指定"
   ]
  },
  {
   "cell_type": "code",
   "execution_count": 21,
   "metadata": {},
   "outputs": [],
   "source": [
    "gmap = gmplot.GoogleMapPlotter(38.226198483664376, 141.0229438945786, 5,apikey=str(api_key))"
   ]
  },
  {
   "cell_type": "code",
   "execution_count": 24,
   "metadata": {},
   "outputs": [],
   "source": [
    "gmap.heatmap(results[:, 0], results[:, 1], weights=weight_re, radius=50, maxIntensity=weight_re.max())"
   ]
  },
  {
   "cell_type": "code",
   "execution_count": 25,
   "metadata": {},
   "outputs": [],
   "source": [
    "gmap.draw(\"population_japan.html\")"
   ]
  },
  {
   "cell_type": "code",
   "execution_count": null,
   "metadata": {},
   "outputs": [],
   "source": []
  }
 ],
 "metadata": {
  "kernelspec": {
   "display_name": "Python 3",
   "language": "python",
   "name": "python3"
  },
  "language_info": {
   "codemirror_mode": {
    "name": "ipython",
    "version": 3
   },
   "file_extension": ".py",
   "mimetype": "text/x-python",
   "name": "python",
   "nbconvert_exporter": "python",
   "pygments_lexer": "ipython3",
   "version": "3.8.0"
  }
 },
 "nbformat": 4,
 "nbformat_minor": 2
}
