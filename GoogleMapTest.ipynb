{
 "cells": [
  {
   "cell_type": "markdown",
   "metadata": {},
   "source": [
    "# GoogleMapのテスト"
   ]
  },
  {
   "cell_type": "code",
   "execution_count": 1,
   "metadata": {},
   "outputs": [],
   "source": [
    "import pandas as pd\n",
    "import urllib\n",
    "import urllib.error\n",
    "import urllib.request\n",
    "\n",
    "from pygeocoder import Geocoder\n",
    "import googlemaps\n",
    "\n",
    "import setting"
   ]
  },
  {
   "cell_type": "markdown",
   "metadata": {},
   "source": [
    "## パラメータ設定"
   ]
  },
  {
   "cell_type": "code",
   "execution_count": 2,
   "metadata": {},
   "outputs": [],
   "source": [
    "api_key = setting.API_KEY # API_KEY\n",
    "output_path = './output/' # 出力先\n",
    "pixel = '640x480' # 画素数\n",
    "scale = 18 # スケール"
   ]
  },
  {
   "cell_type": "markdown",
   "metadata": {},
   "source": [
    "## ロケーションの設定"
   ]
  },
  {
   "cell_type": "code",
   "execution_count": 3,
   "metadata": {},
   "outputs": [],
   "source": [
    "location = ['国会議事堂','自由の女神','館山市','南房総市']"
   ]
  },
  {
   "cell_type": "code",
   "execution_count": 4,
   "metadata": {},
   "outputs": [
    {
     "data": {
      "text/plain": [
       "['国会議事堂', '自由の女神', '館山市', '南房総市']"
      ]
     },
     "execution_count": 4,
     "metadata": {},
     "output_type": "execute_result"
    }
   ],
   "source": [
    "location"
   ]
  },
  {
   "cell_type": "markdown",
   "metadata": {},
   "source": [
    "## 位置情報の取得"
   ]
  },
  {
   "cell_type": "code",
   "execution_count": 5,
   "metadata": {},
   "outputs": [
    {
     "data": {
      "text/plain": [
       "[{'address_components': [{'long_name': '1',\n",
       "    'short_name': '1',\n",
       "    'types': ['premise']},\n",
       "   {'long_name': '7',\n",
       "    'short_name': '7',\n",
       "    'types': ['political', 'sublocality', 'sublocality_level_4']},\n",
       "   {'long_name': '1-chōme',\n",
       "    'short_name': '1-chōme',\n",
       "    'types': ['political', 'sublocality', 'sublocality_level_3']},\n",
       "   {'long_name': 'Nagatachō',\n",
       "    'short_name': 'Nagatachō',\n",
       "    'types': ['political', 'sublocality', 'sublocality_level_2']},\n",
       "   {'long_name': 'Chiyoda City',\n",
       "    'short_name': 'Chiyoda City',\n",
       "    'types': ['locality', 'political']},\n",
       "   {'long_name': 'Tōkyō-to',\n",
       "    'short_name': 'Tōkyō-to',\n",
       "    'types': ['administrative_area_level_1', 'political']},\n",
       "   {'long_name': 'Japan',\n",
       "    'short_name': 'JP',\n",
       "    'types': ['country', 'political']},\n",
       "   {'long_name': '100-0014',\n",
       "    'short_name': '100-0014',\n",
       "    'types': ['postal_code']}],\n",
       "  'formatted_address': '1-chōme-7-1 Nagatachō, Chiyoda City, Tōkyō-to 100-0014, Japan',\n",
       "  'geometry': {'location': {'lat': 35.675888, 'lng': 139.744858},\n",
       "   'location_type': 'ROOFTOP',\n",
       "   'viewport': {'northeast': {'lat': 35.6772369802915,\n",
       "     'lng': 139.7462069802915},\n",
       "    'southwest': {'lat': 35.6745390197085, 'lng': 139.7435090197085}}},\n",
       "  'place_id': 'ChIJibDhsomLGGARkIZSXvrUx0g',\n",
       "  'plus_code': {'compound_code': 'MPGV+9W Tokyo, 東京都 Japan',\n",
       "   'global_code': '8Q7XMPGV+9W'},\n",
       "  'types': ['establishment', 'point_of_interest', 'tourist_attraction']}]"
      ]
     },
     "execution_count": 5,
     "metadata": {},
     "output_type": "execute_result"
    }
   ],
   "source": [
    "gmaps = googlemaps.Client(key=api_key)\n",
    "address = location[0]\n",
    "result = gmaps.geocode(address)\n",
    "result"
   ]
  },
  {
   "cell_type": "code",
   "execution_count": 6,
   "metadata": {},
   "outputs": [
    {
     "name": "stdout",
     "output_type": "stream",
     "text": [
      "35.675888 139.744858\n"
     ]
    }
   ],
   "source": [
    "lat = result[0][\"geometry\"][\"location\"][\"lat\"]\n",
    "lon = result[0][\"geometry\"][\"location\"][\"lng\"]\n",
    "print(lat,lon)"
   ]
  },
  {
   "cell_type": "markdown",
   "metadata": {},
   "source": [
    "## 緯度・経度取得"
   ]
  },
  {
   "cell_type": "code",
   "execution_count": 19,
   "metadata": {},
   "outputs": [],
   "source": [
    "def get_lat_lon(locations):\n",
    "    location_dic = []\n",
    "    \n",
    "    for address in locations:\n",
    "        gmaps = googlemaps.Client(key=api_key)\n",
    "        result = gmaps.geocode(address)\n",
    "        \n",
    "        lat = result[0]['geometry']['location']['lat']        \n",
    "        lon = result[0]['geometry']['location']['lng']\n",
    "        \n",
    "        location_dic.append({'loc':address,'lat':lat,'lon':lon})\n",
    "        \n",
    "    df = pd.DataFrame(location_dic)\n",
    "    \n",
    "    df = df.drop_duplicates('loc')\n",
    "    \n",
    "    df.to_csv(output_path + 'loc.csv')\n",
    "    \n",
    "    return df"
   ]
  },
  {
   "cell_type": "code",
   "execution_count": 20,
   "metadata": {},
   "outputs": [],
   "source": [
    "df  = get_lat_lon(location)"
   ]
  },
  {
   "cell_type": "code",
   "execution_count": 23,
   "metadata": {},
   "outputs": [
    {
     "data": {
      "text/html": [
       "<div>\n",
       "<style scoped>\n",
       "    .dataframe tbody tr th:only-of-type {\n",
       "        vertical-align: middle;\n",
       "    }\n",
       "\n",
       "    .dataframe tbody tr th {\n",
       "        vertical-align: top;\n",
       "    }\n",
       "\n",
       "    .dataframe thead th {\n",
       "        text-align: right;\n",
       "    }\n",
       "</style>\n",
       "<table border=\"1\" class=\"dataframe\">\n",
       "  <thead>\n",
       "    <tr style=\"text-align: right;\">\n",
       "      <th></th>\n",
       "      <th>loc</th>\n",
       "      <th>lat</th>\n",
       "      <th>lon</th>\n",
       "    </tr>\n",
       "  </thead>\n",
       "  <tbody>\n",
       "    <tr>\n",
       "      <th>0</th>\n",
       "      <td>国会議事堂</td>\n",
       "      <td>35.675888</td>\n",
       "      <td>139.744858</td>\n",
       "    </tr>\n",
       "    <tr>\n",
       "      <th>1</th>\n",
       "      <td>自由の女神</td>\n",
       "      <td>40.689249</td>\n",
       "      <td>-74.044500</td>\n",
       "    </tr>\n",
       "    <tr>\n",
       "      <th>2</th>\n",
       "      <td>館山市</td>\n",
       "      <td>34.996546</td>\n",
       "      <td>139.870044</td>\n",
       "    </tr>\n",
       "    <tr>\n",
       "      <th>3</th>\n",
       "      <td>南房総市</td>\n",
       "      <td>35.042651</td>\n",
       "      <td>139.839879</td>\n",
       "    </tr>\n",
       "  </tbody>\n",
       "</table>\n",
       "</div>"
      ],
      "text/plain": [
       "     loc        lat         lon\n",
       "0  国会議事堂  35.675888  139.744858\n",
       "1  自由の女神  40.689249  -74.044500\n",
       "2    館山市  34.996546  139.870044\n",
       "3   南房総市  35.042651  139.839879"
      ]
     },
     "execution_count": 23,
     "metadata": {},
     "output_type": "execute_result"
    }
   ],
   "source": [
    "df.head(5)"
   ]
  },
  {
   "cell_type": "code",
   "execution_count": null,
   "metadata": {},
   "outputs": [],
   "source": []
  }
 ],
 "metadata": {
  "kernelspec": {
   "display_name": "Python 3",
   "language": "python",
   "name": "python3"
  },
  "language_info": {
   "codemirror_mode": {
    "name": "ipython",
    "version": 3
   },
   "file_extension": ".py",
   "mimetype": "text/x-python",
   "name": "python",
   "nbconvert_exporter": "python",
   "pygments_lexer": "ipython3",
   "version": "3.8.0"
  }
 },
 "nbformat": 4,
 "nbformat_minor": 2
}
