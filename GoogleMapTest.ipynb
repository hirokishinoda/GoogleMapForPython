{
 "cells": [
  {
   "cell_type": "markdown",
   "metadata": {},
   "source": [
    "# GoogleMapのテスト"
   ]
  },
  {
   "cell_type": "code",
   "execution_count": 2,
   "metadata": {},
   "outputs": [],
   "source": [
    "import pandas as pd\n",
    "import urllib\n",
    "import urllib.error\n",
    "import urllib.request\n",
    "\n",
    "from pygeocoder import Geocoder\n",
    "import googlemaps\n",
    "\n",
    "import setting"
   ]
  },
  {
   "cell_type": "markdown",
   "metadata": {},
   "source": [
    "## パラメータ設定"
   ]
  },
  {
   "cell_type": "code",
   "execution_count": 3,
   "metadata": {},
   "outputs": [],
   "source": [
    "api_key = setting.API_KEY # API_KEY\n",
    "output_path = './output/' # 出力先\n",
    "pixel = '640x480' # 画素数\n",
    "scale = 18 # スケール"
   ]
  },
  {
   "cell_type": "markdown",
   "metadata": {},
   "source": [
    "## ロケーションの設定"
   ]
  },
  {
   "cell_type": "code",
   "execution_count": 4,
   "metadata": {},
   "outputs": [],
   "source": [
    "location = ['国会議事堂','自由の女神','館山市','南房総市']"
   ]
  },
  {
   "cell_type": "code",
   "execution_count": 5,
   "metadata": {},
   "outputs": [
    {
     "data": {
      "text/plain": [
       "['国会議事堂', '自由の女神', '館山市', '南房総市']"
      ]
     },
     "execution_count": 5,
     "metadata": {},
     "output_type": "execute_result"
    }
   ],
   "source": [
    "location"
   ]
  },
  {
   "cell_type": "markdown",
   "metadata": {},
   "source": [
    "## 位置情報の取得"
   ]
  },
  {
   "cell_type": "code",
   "execution_count": 8,
   "metadata": {},
   "outputs": [
    {
     "data": {
      "text/plain": [
       "[{'address_components': [{'long_name': '1',\n",
       "    'short_name': '1',\n",
       "    'types': ['premise']},\n",
       "   {'long_name': '7',\n",
       "    'short_name': '7',\n",
       "    'types': ['political', 'sublocality', 'sublocality_level_4']},\n",
       "   {'long_name': '1-chōme',\n",
       "    'short_name': '1-chōme',\n",
       "    'types': ['political', 'sublocality', 'sublocality_level_3']},\n",
       "   {'long_name': 'Nagatachō',\n",
       "    'short_name': 'Nagatachō',\n",
       "    'types': ['political', 'sublocality', 'sublocality_level_2']},\n",
       "   {'long_name': 'Chiyoda City',\n",
       "    'short_name': 'Chiyoda City',\n",
       "    'types': ['locality', 'political']},\n",
       "   {'long_name': 'Tōkyō-to',\n",
       "    'short_name': 'Tōkyō-to',\n",
       "    'types': ['administrative_area_level_1', 'political']},\n",
       "   {'long_name': 'Japan',\n",
       "    'short_name': 'JP',\n",
       "    'types': ['country', 'political']},\n",
       "   {'long_name': '100-0014',\n",
       "    'short_name': '100-0014',\n",
       "    'types': ['postal_code']}],\n",
       "  'formatted_address': '1-chōme-7-1 Nagatachō, Chiyoda City, Tōkyō-to 100-0014, Japan',\n",
       "  'geometry': {'location': {'lat': 35.675888, 'lng': 139.744858},\n",
       "   'location_type': 'ROOFTOP',\n",
       "   'viewport': {'northeast': {'lat': 35.6772369802915,\n",
       "     'lng': 139.7462069802915},\n",
       "    'southwest': {'lat': 35.6745390197085, 'lng': 139.7435090197085}}},\n",
       "  'place_id': 'ChIJibDhsomLGGARkIZSXvrUx0g',\n",
       "  'plus_code': {'compound_code': 'MPGV+9W Tokyo, 東京都 Japan',\n",
       "   'global_code': '8Q7XMPGV+9W'},\n",
       "  'types': ['establishment', 'point_of_interest', 'tourist_attraction']}]"
      ]
     },
     "execution_count": 8,
     "metadata": {},
     "output_type": "execute_result"
    }
   ],
   "source": [
    "gmaps = googlemaps.Client(key=api_key)\n",
    "address = location[0]\n",
    "result = gmaps.geocode(address)\n",
    "result"
   ]
  },
  {
   "cell_type": "code",
   "execution_count": 10,
   "metadata": {},
   "outputs": [
    {
     "name": "stdout",
     "output_type": "stream",
     "text": [
      "35.675888 139.744858\n"
     ]
    }
   ],
   "source": [
    "lat = result[0][\"geometry\"][\"location\"][\"lat\"]\n",
    "lon = result[0][\"geometry\"][\"location\"][\"lng\"]\n",
    "print(lat,lon)"
   ]
  },
  {
   "cell_type": "code",
   "execution_count": null,
   "metadata": {},
   "outputs": [],
   "source": []
  }
 ],
 "metadata": {
  "kernelspec": {
   "display_name": "Python 3",
   "language": "python",
   "name": "python3"
  },
  "language_info": {
   "codemirror_mode": {
    "name": "ipython",
    "version": 3
   },
   "file_extension": ".py",
   "mimetype": "text/x-python",
   "name": "python",
   "nbconvert_exporter": "python",
   "pygments_lexer": "ipython3",
   "version": "3.8.0"
  }
 },
 "nbformat": 4,
 "nbformat_minor": 2
}
